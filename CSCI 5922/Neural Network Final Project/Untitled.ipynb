{
 "cells": [
  {
   "cell_type": "code",
   "execution_count": 1,
   "id": "e242a719",
   "metadata": {},
   "outputs": [
    {
     "name": "stdout",
     "output_type": "stream",
     "text": [
      " Volume in drive C has no label.\n",
      " Volume Serial Number is 80B1-1956\n",
      "\n",
      " Directory of C:\\Users\\13034\\Downloads\\Neural Network Final Project\n",
      "\n",
      "12/05/2022  10:46 AM    <DIR>          .\n",
      "12/05/2022  10:46 AM    <DIR>          ..\n",
      "12/05/2022  10:46 AM    <DIR>          .ipynb_checkpoints\n",
      "12/01/2022  12:45 PM     7,112,704,951 blur.tar\n",
      "12/05/2022  10:43 AM            72,956 cats_vs_dogs\n",
      "12/01/2022  03:49 PM     7,757,510,705 digital.tar\n",
      "12/01/2022  05:36 PM    15,789,490,144 extra.tar\n",
      "12/01/2022  08:10 PM    22,565,673,785 noise.tar\n",
      "12/05/2022  10:46 AM                72 Untitled.ipynb\n",
      "12/01/2022  08:42 PM    12,797,438,995 weather.tar\n",
      "               7 File(s) 66,022,891,608 bytes\n",
      "               3 Dir(s)  344,223,875,072 bytes free\n"
     ]
    }
   ],
   "source": [
    "ls"
   ]
  },
  {
   "cell_type": "code",
   "execution_count": 2,
   "id": "6c9bf78e",
   "metadata": {},
   "outputs": [],
   "source": [
    "import pandas as pd\n",
    "import numpy as np"
   ]
  },
  {
   "cell_type": "code",
   "execution_count": null,
   "id": "d3195107",
   "metadata": {},
   "outputs": [],
   "source": []
  }
 ],
 "metadata": {
  "kernelspec": {
   "display_name": "Python 3 (ipykernel)",
   "language": "python",
   "name": "python3"
  },
  "language_info": {
   "codemirror_mode": {
    "name": "ipython",
    "version": 3
   },
   "file_extension": ".py",
   "mimetype": "text/x-python",
   "name": "python",
   "nbconvert_exporter": "python",
   "pygments_lexer": "ipython3",
   "version": "3.9.12"
  }
 },
 "nbformat": 4,
 "nbformat_minor": 5
}
