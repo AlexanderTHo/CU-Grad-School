{
 "cells": [
  {
   "cell_type": "code",
   "execution_count": 1,
   "metadata": {
    "id": "iSgpUZdf8rE_"
   },
   "outputs": [],
   "source": [
    "#sk-UcAmqsGNeZu7X2UMC1443W3lNxRyh7tefkfdgk4ZwoRknV2Y"
   ]
  },
  {
   "cell_type": "code",
   "execution_count": 2,
   "metadata": {
    "id": "dm9yp9GDqU2l"
   },
   "outputs": [],
   "source": [
    "#blur_img_path = '/content/drive/MyDrive/Neural networks project/train/blurred images'\n",
    "#blurred_images = []\n",
    "#for img in os.listdir(blur_img_path):\n",
    "#  blurred_images.append(Image.open(os.path.join(blur_img_path, img)))\n",
    "#\n",
    "#for i in range(500):\n",
    "#  blurred_images[i] = np.array(blurred_images[i])\n",
    "#blurred_images = np.array(blurred_images)\n",
    "#\n",
    "#X = blurred_images\n",
    "#labels = pd.read_csv('/content/drive/MyDrive/Neural networks project/train/labels.csv', index_col=0)\n",
    "#y = np.array([float(1) if label=='dog' else float(0) for label in labels.values])\n",
    "#\n",
    "#X_train, X_test, y_train, y_test = train_test_split(X, y, test_size=0.3, random_state=42)"
   ]
  },
  {
   "cell_type": "code",
   "execution_count": 3,
   "metadata": {
    "colab": {
     "base_uri": "https://localhost:8080/"
    },
    "id": "iS2IErY-tbbx",
    "outputId": "e1d02f2a-d873-4601-a55b-be2f8e0e711f"
   },
   "outputs": [
    {
     "name": "stdout",
     "output_type": "stream",
     "text": [
      "Requirement already satisfied: stability-sdk in c:\\users\\13034\\anaconda3\\lib\\site-packages (0.3.0)\n",
      "Requirement already satisfied: Pillow in c:\\users\\13034\\anaconda3\\lib\\site-packages (from stability-sdk) (9.0.1)\n",
      "Requirement already satisfied: protobuf==3.19.5 in c:\\users\\13034\\anaconda3\\lib\\site-packages (from stability-sdk) (3.19.5)\n",
      "Requirement already satisfied: grpcio==1.48.1 in c:\\users\\13034\\anaconda3\\lib\\site-packages (from stability-sdk) (1.48.1)\n",
      "Requirement already satisfied: grpcio-tools==1.48.1 in c:\\users\\13034\\anaconda3\\lib\\site-packages (from stability-sdk) (1.48.1)\n",
      "Requirement already satisfied: python-dotenv in c:\\users\\13034\\anaconda3\\lib\\site-packages (from stability-sdk) (0.21.0)\n",
      "Requirement already satisfied: six>=1.5.2 in c:\\users\\13034\\anaconda3\\lib\\site-packages (from grpcio==1.48.1->stability-sdk) (1.16.0)\n",
      "Requirement already satisfied: setuptools in c:\\users\\13034\\anaconda3\\lib\\site-packages (from grpcio-tools==1.48.1->stability-sdk) (61.2.0)\n",
      "Note: you may need to restart the kernel to use updated packages.\n"
     ]
    }
   ],
   "source": [
    "pip install stability-sdk"
   ]
  },
  {
   "cell_type": "code",
   "execution_count": 4,
   "metadata": {},
   "outputs": [
    {
     "name": "stdout",
     "output_type": "stream",
     "text": [
      "Requirement already satisfied: opencv-python in c:\\users\\13034\\anaconda3\\lib\\site-packages (4.6.0.66)\n",
      "Requirement already satisfied: numpy>=1.19.3 in c:\\users\\13034\\anaconda3\\lib\\site-packages (from opencv-python) (1.21.5)\n",
      "Note: you may need to restart the kernel to use updated packages.\n"
     ]
    }
   ],
   "source": [
    "pip install opencv-python"
   ]
  },
  {
   "cell_type": "code",
   "execution_count": 5,
   "metadata": {
    "id": "z0IZ29Irtcve"
   },
   "outputs": [],
   "source": [
    "import pandas as pd\n",
    "import numpy as np\n",
    "from zipfile import ZipFile\n",
    "import cv2\n",
    "from sklearn.utils import shuffle\n",
    "from PIL import Image, ImageFilter\n",
    "import matplotlib.pyplot as plt\n",
    "import io\n",
    "import os\n",
    "import warnings\n",
    "from stability_sdk import client\n",
    "import stability_sdk.interfaces.gooseai.generation.generation_pb2 as generation\n",
    "import random\n",
    "import tensorflow as tf\n",
    "from tensorflow.keras.utils import  load_img"
   ]
  },
  {
   "cell_type": "code",
   "execution_count": 6,
   "metadata": {
    "id": "4LU94yLtrW9C"
   },
   "outputs": [],
   "source": [
    "#path = '/content/drive/MyDrive/Neural networks project/train.zip'\n",
    "#\n",
    "#zip_data = ZipFile(path)\n",
    "#zip_data.extractall('/content/drive/MyDrive/Neural networks project/train')"
   ]
  },
  {
   "cell_type": "code",
   "execution_count": 7,
   "metadata": {
    "id": "I9_d6TuNvZGn"
   },
   "outputs": [],
   "source": [
    "# IMG_HEIGHT = 512\n",
    "# IMG_WIDTH = 512\n",
    "# IMG_SIZE = (IMG_WIDTH , IMG_HEIGHT)\n",
    "# IMG_CHANNELS = 3\n",
    "\n",
    "# IMG_RGB_SIZE = (IMG_WIDTH, IMG_HEIGHT, IMG_CHANNELS)"
   ]
  },
  {
   "cell_type": "code",
   "execution_count": 8,
   "metadata": {
    "id": "TPAGEyy4xtbp"
   },
   "outputs": [],
   "source": [
    "# from google.colab import drive\n",
    "\n",
    "# drive.mount('/content/drive/')"
   ]
  },
  {
   "cell_type": "code",
   "execution_count": 9,
   "metadata": {
    "id": "i4Nzr_cMyXIH"
   },
   "outputs": [],
   "source": [
    "# ls"
   ]
  },
  {
   "cell_type": "code",
   "execution_count": 10,
   "metadata": {
    "id": "jYo-Ke8ivat-"
   },
   "outputs": [],
   "source": [
    "# filenames = os.listdir('/content/drive/MyDrive/Neural networks project/train/train')\n",
    "# classes = []\n",
    "\n",
    "# for filename in filenames:\n",
    "#     category = filename.split('.')[0]\n",
    "#     if category == 'dog':\n",
    "#         classes.append(1)\n",
    "#     else:\n",
    "#         classes.append(0)\n",
    "\n",
    "# data = pd.DataFrame({'filename' : filenames , 'class' : classes})\n",
    "# data.head()"
   ]
  },
  {
   "cell_type": "code",
   "execution_count": 11,
   "metadata": {
    "id": "_ILPBhQ-wQPN"
   },
   "outputs": [],
   "source": [
    "# data['class'].value_counts()"
   ]
  },
  {
   "cell_type": "code",
   "execution_count": 12,
   "metadata": {
    "id": "_E4LY5iAwUcN"
   },
   "outputs": [],
   "source": [
    "# sample = random.choice(filenames)\n",
    "# image = load_img('/content/drive/MyDrive/Neural networks project/train/train/{}'.format(sample))\n",
    "# plt.imshow(image)"
   ]
  },
  {
   "cell_type": "code",
   "execution_count": 13,
   "metadata": {
    "id": "3Kcsd-1vyBXj"
   },
   "outputs": [],
   "source": [
    "# data['class1'] = data['class'].apply(lambda x: 'cat' if x== 0 else 'dog')\n",
    "# data.drop(['class'] , inplace = True , axis = 1)\n",
    "# data.rename(columns  = {'class1' : 'class'} , inplace =True)\n",
    "# data.head()"
   ]
  },
  {
   "cell_type": "code",
   "execution_count": 14,
   "metadata": {
    "id": "CSqWH6_wzsDJ"
   },
   "outputs": [],
   "source": [
    "# cat_data = data[data['class'] == 'cat'][:250]\n",
    "# dog_data = data[data['class'] == 'dog'][:250]\n",
    "\n",
    "# df = pd.concat([cat_data, dog_data])\n",
    "# df = shuffle(df, random_state=7)"
   ]
  },
  {
   "cell_type": "code",
   "execution_count": 15,
   "metadata": {
    "id": "3-klzV2p0NnQ"
   },
   "outputs": [],
   "source": [
    "# df['class'].value_counts()"
   ]
  },
  {
   "cell_type": "code",
   "execution_count": 16,
   "metadata": {
    "id": "feB595CKyQAf"
   },
   "outputs": [],
   "source": [
    "# images = []\n",
    "# labels = df['class']\n",
    "\n",
    "# PATH = '/content/drive/MyDrive/Neural networks project/train/train/'"
   ]
  },
  {
   "cell_type": "code",
   "execution_count": 17,
   "metadata": {
    "id": "8kJEVoUOye8h"
   },
   "outputs": [],
   "source": [
    "# for filename in df['filename']:\n",
    "#   img = Image.open(os.path.join(PATH, filename))\n",
    "#   img = img.resize(IMG_SIZE)\n",
    "#   images.append(img)\n",
    "\n",
    "# df['images'] = images"
   ]
  },
  {
   "cell_type": "code",
   "execution_count": 18,
   "metadata": {
    "id": "_cF_TQ1a7FpS"
   },
   "outputs": [],
   "source": [
    "# img = images[2]\n",
    "# img_blur = img.filter(ImageFilter.GaussianBlur(2))\n",
    "\n",
    "# fig, ax = plt.subplots(1, 2, figsize=(6, 4))\n",
    "# ax[0].imshow(img)\n",
    "# ax[1].imshow(img_blur)"
   ]
  },
  {
   "cell_type": "code",
   "execution_count": 19,
   "metadata": {
    "id": "In3a7u722mPJ"
   },
   "outputs": [],
   "source": [
    "# def add_Gaussian_noise(img):\n",
    "#   blurry_img = img.filter(ImageFilter.GaussianBlur(2))\n",
    "#   return blurry_img"
   ]
  },
  {
   "cell_type": "code",
   "execution_count": 20,
   "metadata": {
    "id": "LFjNqiRmzPD3"
   },
   "outputs": [],
   "source": [
    "# blurry_images = []\n",
    "\n",
    "# for img in images:\n",
    "#   blurry_images.append(add_Gaussian_noise(img))\n",
    "\n",
    "# df['blurry_images'] = blurry_images"
   ]
  },
  {
   "cell_type": "code",
   "execution_count": 21,
   "metadata": {
    "id": "w_JUoBo_3BKx"
   },
   "outputs": [],
   "source": [
    "# plt.imshow(blurry_images[5])"
   ]
  },
  {
   "cell_type": "code",
   "execution_count": 22,
   "metadata": {
    "id": "-o2U8WFJIiu1"
   },
   "outputs": [],
   "source": [
    "# # Our Host URL should not be prepended with \"https\" nor should it have a trailing slash.\n",
    "# os.environ['STABILITY_HOST'] = 'grpc.stability.ai:443'\n",
    "\n",
    "# # Sign up for an account at the following link to get an API Key.\n",
    "# # https://beta.dreamstudio.ai/membership\n",
    "\n",
    "# # Click on the following link once you have created an account to be taken to your API Key.\n",
    "# # https://beta.dreamstudio.ai/membership?tab=apiKeys\n",
    "\n",
    "# # Paste your API Key below.\n",
    "\n",
    "# os.environ['STABILITY_KEY'] = 'sk-UcAmqsGNeZu7X2UMC1443W3lNxRyh7tefkfdgk4ZwoRknV2Y'"
   ]
  },
  {
   "cell_type": "code",
   "execution_count": 23,
   "metadata": {
    "id": "BbUuT9nkI9JE"
   },
   "outputs": [],
   "source": [
    "# # Set up our connection to the API.\n",
    "# stability_api = client.StabilityInference(\n",
    "#     key=os.environ['STABILITY_KEY'], # API Key reference.\n",
    "#     verbose=True, # Print debug messages.\n",
    "#     engine=\"stable-diffusion-512-v2-0\", # Set the engine to use for generation. For SD 2.0 use \"stable-diffusion-v2-0\".\n",
    "#     # Available engines: stable-diffusion-v1 stable-diffusion-v1-5 stable-diffusion-512-v2-0 stable-diffusion-768-v2-0 stable-inpainting-v1-0 stable-inpainting-512-v2-0\n",
    "# )"
   ]
  },
  {
   "cell_type": "code",
   "execution_count": 24,
   "metadata": {
    "id": "5TeARF5oI_bH"
   },
   "outputs": [],
   "source": [
    "\n",
    "\n",
    "\n",
    "## Set up our initial generation parameters.\n",
    "#answers = stability_api.generate(\n",
    "#    prompt=\"a rocket-ship launching from rolling greens with blue daisies and weeping willow trees under a blue alien sky, artstation, masterful, ghibli\",\n",
    "#    seed=892226758, # If a seed is provided, the resulting generated image will be deterministic.\n",
    "#                    # What this means is that as long as all generation parameters remain the same, you can always recall the same image simply by generating it again.\n",
    "#                    # Note: This isn't quite the case for Clip Guided generations, which we'll tackle in a future example notebook.\n",
    "#    steps=30, # Amount of inference steps performed on image generation. Defaults to 30. \n",
    "#    cfg_scale=8.0, # Influences how strongly your generation is guided to match your prompt.\n",
    "#                   # Setting this value higher increases the strength in which it tries to match your prompt.\n",
    "#                   # Defaults to 7.0 if not specified.\n",
    "#    width=512, # Generation width, defaults to 512 if not included.\n",
    "#    height=512, # Generation height, defaults to 512 if not included.\n",
    "#    sampler=generation.SAMPLER_K_DPMPP_2M # Choose which sampler we want to denoise our generation with.\n",
    "#                                                 # Defaults to k_dpmpp_2m if not specified. Clip Guidance only supports ancestral samplers.\n",
    "#                                                 # (Available Samplers: ddim, plms, k_euler, k_euler_ancestral, k_heun, k_dpm_2, k_dpm_2_ancestral, k_dpmpp_2s_ancestral, k_lms, k_dpmpp_2m)\n",
    "#)\n",
    "#\n",
    "## Set up our warning to print to the console if the adult content classifier is tripped.\n",
    "## If adult content classifier is not tripped, display generated image.\n",
    "#for resp in answers:\n",
    "#    for artifact in resp.artifacts:\n",
    "#        if artifact.finish_reason == generation.FILTER:\n",
    "#            warnings.warn(\n",
    "#                \"Your request activated the API's safety filters and could not be processed.\"\n",
    "#                \"Please modify the prompt and try again.\")\n",
    "#        if artifact.type == generation.ARTIFACT_IMAGE:\n",
    "#            global img\n",
    "#            img = Image.open(io.BytesIO(artifact.binary))\n",
    "#            plot_img(img)\n",
    "#            #img.save(str(artifact.seed)+ \".png\") # Save our generated images its seed number as the filename.\n",
    "\n",
    "\n"
   ]
  },
  {
   "cell_type": "code",
   "execution_count": 25,
   "metadata": {
    "id": "9tlrqZuUJBVE"
   },
   "outputs": [],
   "source": [
    "# def generate_img(blurry_img, label):\n",
    "#   # Set up our initial generation parameters.\n",
    "#   answers2 = stability_api.generate(\n",
    "#       prompt=label,\n",
    "#       init_image=blurry_img, # Assign our previously generated img as our Initial Image for transformation.\n",
    "#       start_schedule=0.05, # Set the strength of our prompt in relation to our initial image.\n",
    "#       seed=123467458, # If attempting to transform an image that was previously generated with our API,\n",
    "#                       # initial images benefit from having their own distinct seed rather than using the seed of the original image generation.\n",
    "#       steps=30, # Amount of inference steps performed on image generation. Defaults to 30. \n",
    "#       cfg_scale=15, # Influences how strongly your generation is guided to match your prompt.\n",
    "#                      # Setting this value higher increases the strength in which it tries to match your prompt.\n",
    "#                      # Defaults to 7.0 if not specified.\n",
    "#       width=512, # Generation width, defaults to 512 if not included.\n",
    "#       height=512, # Generation height, defaults to 512 if not included.\n",
    "#       sampler=generation.SAMPLER_K_DPMPP_2M # Choose which sampler we want to denoise our generation with.\n",
    "#                                                    # Defaults to k_dpmpp_2m if not specified. Clip Guidance only supports ancestral samplers.\n",
    "#                                                    # (Available Samplers: ddim, plms, k_euler, k_euler_ancestral, k_heun, k_dpm_2, k_dpm_2_ancestral, k_dpmpp_2s_ancestral, k_lms, k_dpmpp_2m)\n",
    "#   )\n",
    "\n",
    "#   # Set up our warning to print to the console if the adult content classifier is tripped.\n",
    "#   # If adult content classifier is not tripped, display generated image.\n",
    "#   for resp in answers2:\n",
    "#       for artifact in resp.artifacts:\n",
    "#           if artifact.finish_reason == generation.FILTER:\n",
    "#               warnings.warn(\n",
    "#                   \"Your request activated the API's safety filters and could not be processed.\"\n",
    "#                   \"Please modify the prompt and try again.\")\n",
    "#           if artifact.type == generation.ARTIFACT_IMAGE:\n",
    "#               #global img2\n",
    "#               img2 = Image.open(io.BytesIO(artifact.binary))\n",
    "#               return img2              \n",
    "#               #img2.save(str(artifact.seed)+ \"-img2img.png\") # Save our generated image with its seed number as the filename and the img2img suffix so that we know this is our transformed image."
   ]
  },
  {
   "cell_type": "code",
   "execution_count": 26,
   "metadata": {
    "id": "6xmmC_yeJvz8"
   },
   "outputs": [],
   "source": [
    "# generated_images = []\n",
    "\n",
    "# for img, label in zip(df['blurry_images'], df['class']):\n",
    "#   generated_images.append(generate_img(img, label))\n",
    "\n",
    "# df['generated_images'] = generated_images\n",
    "\n",
    "# #i = df['images'][0]\n",
    "# #si = df['blurry_images'][0]\n",
    "# #label = df['class'][0]\n",
    "# #print(label)\n",
    "# #generated_images.append(generate_img(si, label))\n",
    "# #fig, ax = plt.subplots(1, 3, figsize=(15,15))\n",
    "# #ax[0].imshow(i)\n",
    "# #ax[1].imshow(si)\n",
    "# #ax[2].imshow(generated_images[0])"
   ]
  },
  {
   "cell_type": "code",
   "execution_count": 27,
   "metadata": {
    "id": "CqnvOhnhCH4t"
   },
   "outputs": [],
   "source": [
    "# df.to_csv('cats_vs_dogs', index=False)"
   ]
  },
  {
   "cell_type": "code",
   "execution_count": null,
   "metadata": {
    "id": "zD0YMS_sFeLP"
   },
   "outputs": [],
   "source": []
  },
  {
   "cell_type": "markdown",
   "metadata": {
    "id": "__dgQaa5hCBE"
   },
   "source": [
    "# Image Compression"
   ]
  },
  {
   "cell_type": "code",
   "execution_count": 28,
   "metadata": {
    "id": "wpdAVJ9cgVQB"
   },
   "outputs": [],
   "source": [
    "from sklearn.model_selection import train_test_split\n",
    "\n",
    "blur_img_path = 'blurred images'\n",
    "blurred_images = []\n",
    "for img in os.listdir(blur_img_path):\n",
    "    blurred_images.append(Image.open(os.path.join(blur_img_path, img)))\n",
    "\n",
    "for i in range(500):\n",
    "    blurred_images[i] = np.array(blurred_images[i])\n",
    "blurred_images = np.array(blurred_images)\n",
    "\n",
    "X = blurred_images\n",
    "labels = pd.read_csv('labels.csv', index_col=0)\n",
    "y = np.array([float(1) if label=='dog' else float(0) for label in labels.values])\n",
    "\n",
    "X_train, X_test, y_train, y_test = train_test_split(X, y, test_size=0.3, random_state=42)"
   ]
  },
  {
   "cell_type": "code",
   "execution_count": 29,
   "metadata": {
    "id": "puDJ1nobjWG3"
   },
   "outputs": [
    {
     "name": "stdout",
     "output_type": "stream",
     "text": [
      "(350, 512, 512, 3)\n"
     ]
    }
   ],
   "source": [
    "print(X_train.shape)"
   ]
  },
  {
   "cell_type": "code",
   "execution_count": 30,
   "metadata": {
    "id": "esEQwaoVpPph"
   },
   "outputs": [],
   "source": [
    "# images = {'https://drive.google.com/drive/folders/1gIbW_b9sSQEGfGLvHgpe4SRKG3Hb62fq?usp=share_link'}\n",
    "# print(images)"
   ]
  },
  {
   "cell_type": "code",
   "execution_count": 31,
   "metadata": {
    "id": "C0W7ECaSj0T3"
   },
   "outputs": [],
   "source": [
    "# #sample = random.choice(filenames)\n",
    "# image = load_img('https://drive.google.com/drive/folders/1gIbW_b9sSQEGfGLvHgpe4SRKG3Hb62fq?usp=share_link')\n",
    "# #plt.imshow(image)"
   ]
  },
  {
   "cell_type": "code",
   "execution_count": 32,
   "metadata": {
    "id": "TLuiO3qRgsMG"
   },
   "outputs": [],
   "source": [
    "# data['class'].value_counts()"
   ]
  },
  {
   "cell_type": "code",
   "execution_count": 33,
   "metadata": {
    "id": "yoqwGqGLek2B"
   },
   "outputs": [],
   "source": [
    "# image = load_img('/content/drive/MyDrive/Neural networks project/train/images/{}'.format(sample))\n",
    "# plt.imshow(image)"
   ]
  },
  {
   "cell_type": "code",
   "execution_count": 34,
   "metadata": {
    "id": "ggM_kjJ3nY3A"
   },
   "outputs": [],
   "source": [
    "# labels = pd.read_csv('/content/drive/MyDrive/Neural networks project/train/labels.csv')\n",
    "# pd.concat([data, labels ], axis=1)"
   ]
  },
  {
   "cell_type": "code",
   "execution_count": 35,
   "metadata": {
    "id": "c5paBbrzs5V6"
   },
   "outputs": [],
   "source": [
    "# X = data.drop(['class'],axis='columns')\n",
    "# y = data['class']"
   ]
  },
  {
   "cell_type": "code",
   "execution_count": 36,
   "metadata": {
    "id": "mWfjuKzRo_Xc"
   },
   "outputs": [],
   "source": [
    "# from sklearn.model_selection import train_test_split\n",
    "# X_train, X_test, y_train, y_test = train_test_split(X, y, test_size=0.33, random_state=42)"
   ]
  },
  {
   "cell_type": "code",
   "execution_count": 37,
   "metadata": {
    "id": "XtcsqVZdhDlg"
   },
   "outputs": [],
   "source": [
    "# IMAGE_SIZE = 3"
   ]
  },
  {
   "cell_type": "code",
   "execution_count": 38,
   "metadata": {
    "id": "ZOlsxuvcj5ak"
   },
   "outputs": [],
   "source": [
    "\n",
    "# img_path = '/content/drive/MyDrive/Neural networks project/train/images'\n",
    "# images = []\n",
    "# for img in os.listdir(img_path):\n",
    "#   images.append((os.path.join(img_path, img)))"
   ]
  },
  {
   "cell_type": "code",
   "execution_count": 39,
   "metadata": {
    "id": "JZc6fM0xm5qB"
   },
   "outputs": [
    {
     "data": {
      "text/plain": [
       "<matplotlib.image.AxesImage at 0x2ded4b4de50>"
      ]
     },
     "execution_count": 39,
     "metadata": {},
     "output_type": "execute_result"
    },
    {
     "data": {
      "image/png": "[encoded data removed]",
      "text/plain": [
       "<Figure size 432x288 with 1 Axes>"
      ]
     },
     "metadata": {
      "needs_background": "light"
     },
     "output_type": "display_data"
    }
   ],
   "source": [
    "plt.imshow(X_train[0])"
   ]
  },
  {
   "cell_type": "code",
   "execution_count": 40,
   "metadata": {
    "id": "Sc-lkLrykfru"
   },
   "outputs": [],
   "source": [
    "# print(images[0])"
   ]
  },
  {
   "cell_type": "code",
   "execution_count": 41,
   "metadata": {
    "id": "aJ614gcxmqZD"
   },
   "outputs": [],
   "source": [
    "# X = images"
   ]
  },
  {
   "cell_type": "code",
   "execution_count": 42,
   "metadata": {
    "id": "Jrstqf77mKzT"
   },
   "outputs": [
    {
     "name": "stdout",
     "output_type": "stream",
     "text": [
      "255 0\n"
     ]
    }
   ],
   "source": [
    "print(X.max(), X.min())"
   ]
  },
  {
   "cell_type": "code",
   "execution_count": 43,
   "metadata": {
    "id": "UFEdIdIsmOQY"
   },
   "outputs": [],
   "source": [
    "from sklearn.model_selection import train_test_split\n",
    "X_train, X_test = train_test_split(X, test_size=0.3, random_state=42)"
   ]
  },
  {
   "cell_type": "code",
   "execution_count": 44,
   "metadata": {
    "id": "yO0pgoWDuYor"
   },
   "outputs": [],
   "source": [
    "from keras.layers import Input, Dense\n",
    "from keras.models import Model\n",
    "import keras\n",
    "from keras import layers"
   ]
  },
  {
   "cell_type": "code",
   "execution_count": 45,
   "metadata": {
    "id": "RgDM9fYVhyVl"
   },
   "outputs": [],
   "source": [
    "from keras.layers import Dense, Flatten, Reshape, Input, InputLayer\n",
    "from keras.models import Sequential, Model\n",
    "\n",
    "def build_autoencoder(img_shape, code_size):\n",
    "    # The encoder\n",
    "    encoder = Sequential()\n",
    "    encoder.add(InputLayer(img_shape))\n",
    "    encoder.add(Flatten())\n",
    "    encoder.add(Dense(code_size))\n",
    "\n",
    "    # The decoder\n",
    "    decoder = Sequential()\n",
    "    decoder.add(InputLayer((code_size,)))\n",
    "    decoder.add(Dense(np.prod(img_shape))) # np.prod(img_shape) is the same as 32*32*3, it's more generic than saying 3072\n",
    "    decoder.add(Reshape(img_shape))\n",
    "\n",
    "    return encoder, decoder"
   ]
  },
  {
   "cell_type": "code",
   "execution_count": 46,
   "metadata": {
    "id": "W1z53911h0fk"
   },
   "outputs": [
    {
     "name": "stdout",
     "output_type": "stream",
     "text": [
      "Model: \"model\"\n",
      "_________________________________________________________________\n",
      " Layer (type)                Output Shape              Param #   \n",
      "=================================================================\n",
      " input_3 (InputLayer)        [(None, 512, 512, 3)]     0         \n",
      "                                                                 \n",
      " sequential (Sequential)     (None, 400)               314573200 \n",
      "                                                                 \n",
      " sequential_1 (Sequential)   (None, 512, 512, 3)       315359232 \n",
      "                                                                 \n",
      "=================================================================\n",
      "Total params: 629,932,432\n",
      "Trainable params: 629,932,432\n",
      "Non-trainable params: 0\n",
      "_________________________________________________________________\n",
      "None\n"
     ]
    }
   ],
   "source": [
    "IMG_SHAPE = X.shape[1:]\n",
    "# IMG_SHAPE = Input(shape=(512, 512, 3))\n",
    "encoder, decoder = build_autoencoder(IMG_SHAPE, 400)\n",
    "\n",
    "inp = Input(IMG_SHAPE)\n",
    "code = encoder(inp)\n",
    "reconstruction = decoder(code)\n",
    "\n",
    "autoencoder = Model(inp,reconstruction)\n",
    "autoencoder.compile(optimizer='adamax', loss='mse')\n",
    "\n",
    "print(autoencoder.summary())"
   ]
  },
  {
   "cell_type": "code",
   "execution_count": null,
   "metadata": {
    "id": "Jmw3bsBoh3zn"
   },
   "outputs": [
    {
     "name": "stdout",
     "output_type": "stream",
     "text": [
      "Epoch 1/10\n",
      "6/6 [==============================] - 87s 10s/step - loss: 222238608.0000 - val_loss: 4534640.5000\n",
      "Epoch 2/10\n"
     ]
    }
   ],
   "source": [
    "history = autoencoder.fit(x=X_train, y=X_train, batch_size =  64,epochs=10,validation_data=[X_test, X_test])"
   ]
  },
  {
   "cell_type": "code",
   "execution_count": null,
   "metadata": {
    "id": "1Bo-0VHOh5A8"
   },
   "outputs": [],
   "source": [
    "plt.plot(history.history['loss'])\n",
    "plt.plot(history.history['val_loss'])\n",
    "plt.title('model loss')\n",
    "plt.ylabel('loss')\n",
    "plt.xlabel('epoch')\n",
    "plt.legend(['train', 'test'], loc='upper left')\n",
    "plt.show()"
   ]
  },
  {
   "cell_type": "code",
   "execution_count": null,
   "metadata": {
    "id": "lGRudwZ2iHjs"
   },
   "outputs": [],
   "source": [
    "import matplotlib.pyplot as plt\n",
    "def show_image(x):\n",
    "    plt.imshow(x)"
   ]
  },
  {
   "cell_type": "code",
   "execution_count": null,
   "metadata": {
    "id": "nH_bzXP5h6xW"
   },
   "outputs": [],
   "source": [
    "def visualize(img,encoder,decoder):\n",
    "    \"\"\"Draws original, encoded and decoded images\"\"\"\n",
    "    # img[None] will have shape of (1, 32, 32, 3) which is the same as the model input\n",
    "    code = encoder.predict(img[None])[0]\n",
    "    reco = decoder.predict(code[None])[0]\n",
    "\n",
    "    plt.subplot(1,3,1)\n",
    "    plt.title(\"Original\")\n",
    "    show_image(img)\n",
    "\n",
    "    plt.subplot(1,3,2)\n",
    "    plt.title(\"Code\")\n",
    "    plt.imshow(code.reshape([code.shape[-1]//2,-1]))\n",
    "\n",
    "    plt.subplot(1,3,3)\n",
    "    plt.title(\"Reconstructed\")\n",
    "    show_image(reco)\n",
    "    plt.show()\n",
    "\n",
    "for i in range(25):\n",
    "    img = X_test[i]\n",
    "    visualize(img,encoder,decoder)"
   ]
  },
  {
   "cell_type": "code",
   "execution_count": null,
   "metadata": {
    "id": "k4RUXvpNi_zv"
   },
   "outputs": [],
   "source": [
    "# def encoder(input_image):\n",
    "#     layer1 = Dense(64, activation='relu')(input_image)\n",
    "#     layer2 = Dense(1, activation='sigmoid')(layer1)\n",
    " \n",
    "#     return layer2\n",
    " \n",
    "# def decoder(encoded_image):\n",
    "#     layer1 = Dense(64, activation='relu')(encoded_image)\n",
    "#     layer2 = Dense(IMAGE_SIZE, activation='sigmoid')(layer1)\n",
    " \n",
    "#     return layer2"
   ]
  },
  {
   "cell_type": "code",
   "execution_count": null,
   "metadata": {
    "id": "lN7I4-U2VOw9"
   },
   "outputs": [],
   "source": [
    "# from keras.layers import Input, Conv2D, MaxPooling2D, UpSampling2D, BatchNormalization, Activation, Dropout, Flatten\n",
    "# from keras.models import Model\n",
    "# # from extra_keras_datasets import stl10"
   ]
  },
  {
   "cell_type": "code",
   "execution_count": null,
   "metadata": {
    "id": "owQ7HWGDU_ka"
   },
   "outputs": [],
   "source": [
    "# def encoder(input_image):\n",
    "#     conv1 = Conv2D(32, (3, 3), activation='relu', padding='same')(input_image) #96 x 96 x 32\n",
    "#     conv1 = BatchNormalization()(conv1)\n",
    "#     conv1 = Conv2D(32, (3, 3), activation='relu', padding='same')(conv1) #96 x 96 x 32\n",
    "#     conv1 = BatchNormalization()(conv1)\n",
    "#     conv1 = Conv2D(32, (3, 3), activation='relu', padding='same')(conv1) #96 x 96 x 32\n",
    "#     conv1 = BatchNormalization()(conv1)\n",
    "#     conv1 = Conv2D(32, (3, 3), activation='relu', padding='same')(conv1) #96 x 96 x 32\n",
    "#     # conv1 = BatchNormalization()(conv1)\n",
    "#     # conv1 = MaxPooling2D(pool_size=(2, 2))(conv1) #48 x 48 x 32\n",
    "#     # conv1 = Dropout(0.4)(conv1)\n",
    " \n",
    "#     # conv2 = Conv2D(64, (3, 3), activation='relu', padding='same')(conv1) #48 x 48 x 64\n",
    "#     # conv2 = BatchNormalization()(conv2)\n",
    "#     # conv2 = Conv2D(64, (3, 3), activation='relu', padding='same')(conv2) #48 x 48 x 64\n",
    "#     # conv2 = BatchNormalization()(conv2)\n",
    "#     # conv2 = Conv2D(64, (3, 3), activation='relu', padding='same')(conv2) #48 x 48 x 64\n",
    "#     # conv2 = BatchNormalization()(conv2)\n",
    "#     # conv2 = Conv2D(64, (3, 3), activation='relu', padding='same')(conv2) #48 x 48 x 64\n",
    "#     # conv2 = BatchNormalization()(conv2)\n",
    "#     # conv2 = MaxPooling2D(pool_size=(2, 2))(conv2) #24 x 24 x 64\n",
    "#     # conv2 = Dropout(0.4)(conv2)\n",
    " \n",
    "#     # conv3 = Conv2D(64, (3, 3), activation='relu', padding='same')(conv2) #24 x 24 x 64\n",
    "#     # conv3 = BatchNormalization()(conv3)\n",
    "#     # conv3 = Conv2D(64, (3, 3), activation='relu', padding='same')(conv3) #24 x 24 x 64\n",
    "#     # conv3 = BatchNormalization()(conv3)\n",
    "#     # conv3 = Conv2D(64, (3, 3), activation='relu', padding='same')(conv3) #24 x 24 x 64\n",
    "#     # conv3 = BatchNormalization()(conv3)\n",
    "#     # conv3 = Conv2D(64, (3, 3), activation='relu', padding='same')(conv3) #24 x 24 x 64\n",
    "#     # conv3 = BatchNormalization()(conv3)\n",
    "#     # conv3 = MaxPooling2D(pool_size=(2, 2))(conv3) #12 x 12 x 64\n",
    "#     # conv3 = Dropout(0.4)(conv3)\n",
    " \n",
    "#     # conv4 = Conv2D(32, (3, 3), activation='relu', padding='same')(conv3) #12 x 12 x 32\n",
    "#     # conv4 = BatchNormalization()(conv4)\n",
    "#     # conv4 = Conv2D(32, (3, 3), activation='relu', padding='same')(conv4) #12 x 12 x 32\n",
    "#     # conv4 = BatchNormalization()(conv4)\n",
    "#     # conv4 = Conv2D(32, (3, 3), activation='relu', padding='same')(conv4) #12 x 12 x 32\n",
    "#     # conv4 = BatchNormalization()(conv4)\n",
    "#     # conv4 = Conv2D(32, (3, 3), activation='relu', padding='same')(conv4) #12 x 12 x 32\n",
    " \n",
    "#     encoded = BatchNormalization()(conv1)\n",
    " \n",
    "#     return encoded\n",
    " \n",
    "# def decoder(encoded_image):\n",
    "#     conv5 = Conv2D(32, (3, 3), activation='relu', padding='same')(encoded_image) #12 x 12 x 32\n",
    "#     conv5 = BatchNormalization()(conv5)\n",
    "#     conv5 = Conv2D(32, (3, 3), activation='relu', padding='same')(conv5) #12 x 12 x 32\n",
    "#     conv5 = BatchNormalization()(conv5)\n",
    "#     conv5 = Conv2D(32, (3, 3), activation='relu', padding='same')(conv5) #12 x 12 x 32\n",
    "#     conv5 = BatchNormalization()(conv5)\n",
    "#     conv5 = Conv2D(32, (3, 3), activation='relu', padding='same')(conv5) #12 x 12 x 32\n",
    "#     conv5 = BatchNormalization()(conv5)\n",
    "#     # conv5 = UpSampling2D((2,2))(conv5) #24 x 24 x 32\n",
    " \n",
    "#     # conv6 = Conv2D(64, (3, 3), activation='relu', padding='same')(conv5) #24 x 24 x 64\n",
    "#     # conv6 = BatchNormalization()(conv6)\n",
    "#     # conv6 = Conv2D(64, (3, 3), activation='relu', padding='same')(conv6) #24 x 24 x 64\n",
    "#     # conv6 = BatchNormalization()(conv6)\n",
    "#     # conv6 = Conv2D(64, (3, 3), activation='relu', padding='same')(conv6) #24 x 24 x 64\n",
    "#     # conv6 = BatchNormalization()(conv6)\n",
    "#     # conv6 = Conv2D(64, (3, 3), activation='relu', padding='same')(conv6) #24 x 24 x 64\n",
    "#     # conv6 = BatchNormalization()(conv6)\n",
    "#     # conv6 = UpSampling2D((2,2))(conv6) #48 x 48 x 64\n",
    " \n",
    "#     # conv7 = Conv2D(64, (3, 3), activation='relu', padding='same')(conv6) #48 x 48 x 64\n",
    "#     # conv7 = BatchNormalization()(conv7)\n",
    "#     # conv7 = Conv2D(64, (3, 3), activation='relu', padding='same')(conv7) #48 x 48 x 64\n",
    "#     # conv7 = BatchNormalization()(conv7)\n",
    "#     # conv7 = Conv2D(64, (3, 3), activation='relu', padding='same')(conv7) #48 x 48 x 64\n",
    "#     # conv7 = BatchNormalization()(conv7)\n",
    "#     # conv7 = Conv2D(64, (3, 3), activation='relu', padding='same')(conv7) #48 x 48 x 64\n",
    "#     # conv7 = BatchNormalization()(conv7)\n",
    "#     # conv7 = UpSampling2D((2,2))(conv7) #96 x 96 x 64\n",
    " \n",
    "#     # conv8 = Conv2D(32, (3, 3), activation='relu', padding='same')(conv7) #96 x 96 x 32\n",
    "#     # conv8 = BatchNormalization()(conv8)\n",
    "#     # conv8 = Conv2D(32, (3, 3), activation='relu', padding='same')(conv8) #96 x 96 x 32\n",
    "#     # conv8 = BatchNormalization()(conv8)\n",
    "#     # conv8 = Conv2D(32, (3, 3), activation='relu', padding='same')(conv8) #96 x 96 x 32\n",
    "#     # conv8 = BatchNormalization()(conv8)\n",
    "#     # conv8 = Conv2D(32, (3, 3), activation='relu', padding='same')(conv8) #96 x 96 x 32\n",
    "#     # conv8 = BatchNormalization()(conv8)\n",
    " \n",
    "#     return Conv2D(3, (3, 3), activation='sigmoid', padding='same')(conv5) #96 x 96 x 3"
   ]
  },
  {
   "cell_type": "code",
   "execution_count": null,
   "metadata": {
    "id": "4gYqol99M6iG"
   },
   "outputs": [],
   "source": [
    "import keras\n",
    "from keras import layers\n",
    "\n",
    "# # This is the size of our encoded representations\n",
    "# encoding_dim = 32  # 32 floats -> compression of factor 24.5, assuming the input is 784 floats\n",
    "\n",
    "# # This is our input image\n",
    "# #input_image = Input(shape=(96, 96, 3))\n",
    "# input_img = keras.Input(shape=((512, 512, 3)))\n",
    "# # \"encoded\" is the encoded representation of the input\n",
    "# encoded = layers.Dense(encoding_dim, activation='relu')(input_img)\n",
    "# # \"decoded\" is the lossy reconstruction of the input\n",
    "# decoded = layers.Dense((512*512*3), activation='sigmoid')(encoded)\n",
    "\n",
    "# # This model maps an input to its reconstruction\n",
    "# autoencoder = keras.Model(input_img, decoded)"
   ]
  },
  {
   "cell_type": "code",
   "execution_count": null,
   "metadata": {
    "id": "Hye81uoLNqSx"
   },
   "outputs": [],
   "source": [
    "encoder = keras.Model(input_img, encoded)"
   ]
  },
  {
   "cell_type": "code",
   "execution_count": null,
   "metadata": {
    "id": "CXRPo-NQNI-Q"
   },
   "outputs": [],
   "source": [
    "# This is our encoded (32-dimensional) input\n",
    "encoded_input = keras.Input(shape=(encoding_dim,))\n",
    "# Retrieve the last layer of the autoencoder model\n",
    "decoder_layer = autoencoder.layers[-1]\n",
    "# Create the decoder model\n",
    "decoder = keras.Model(encoded_input, decoder_layer(encoded_input))"
   ]
  },
  {
   "cell_type": "code",
   "execution_count": null,
   "metadata": {
    "id": "AkoqDyDZNs43"
   },
   "outputs": [],
   "source": [
    "autoencoder.compile(optimizer='adam', loss='binary_crossentropy')"
   ]
  },
  {
   "cell_type": "code",
   "execution_count": null,
   "metadata": {
    "id": "9hwOy-DANu8p"
   },
   "outputs": [],
   "source": [
    "X_train = X_train.astype('float32') / 255.\n",
    "X_test = X_test.astype('float32') / 255.\n",
    "# X_train = X_train.reshape((len(X_train), 512, 512, 3))\n",
    "# X_test = X_test.reshape((len(X_test),512, 512, 3))\n",
    "X_train = X_train.reshape((len(X_train), np.prod(X_train.shape[1:4])))\n",
    "X_test = X_test.reshape((len(X_test), np.prod(X_test.shape[1:4])))\n",
    "print(X_train.shape)\n",
    "print(X_test.shape)"
   ]
  },
  {
   "cell_type": "code",
   "execution_count": null,
   "metadata": {
    "id": "F4NpSLJYNx90"
   },
   "outputs": [],
   "source": [
    "autoencoder.fit(X_train, X_train,\n",
    "                epochs=10,\n",
    "                batch_size=64,\n",
    "                shuffle=True,\n",
    "                validation_data=(X_test, X_test))"
   ]
  },
  {
   "cell_type": "code",
   "execution_count": null,
   "metadata": {
    "id": "lcXcZ4dfNzQT"
   },
   "outputs": [],
   "source": [
    "encoded_imgs = encoder.predict(X_test)\n",
    "decoded_imgs = decoder.predict(encoded_imgs)"
   ]
  },
  {
   "cell_type": "code",
   "execution_count": null,
   "metadata": {
    "id": "kJURgP82PqEH"
   },
   "outputs": [],
   "source": [
    "\n",
    "# for i in range(len(decoded_imgs)):\n",
    "#   print(decoded_imgs[i].shape)\n",
    "\n",
    "decoded_imgs = decoded_imgs.reshape(-1,512, 512,3)\n",
    "print(decoded_imgs.shape)"
   ]
  },
  {
   "cell_type": "code",
   "execution_count": null,
   "metadata": {
    "id": "7Lre5xZzN020"
   },
   "outputs": [],
   "source": [
    "import matplotlib.pyplot as plt\n",
    "\n",
    "n = 10  # How many digits we will display\n",
    "plt.figure(figsize=(20, 4))\n",
    "for i in range(n):\n",
    "    # Display original\n",
    "    # ax = plt.subplot(2, n, i + 1)\n",
    "    # plt.imshow(X_test[i])\n",
    "    # plt.gray()\n",
    "    # ax.get_xaxis().set_visible(False)\n",
    "    # ax.get_yaxis().set_visible(False)\n",
    "\n",
    "    # Display reconstruction\n",
    "    ax = plt.subplot(2, n, i + 1 + n)\n",
    "    plt.imshow(decoded_imgs[i])\n",
    "    plt.gray()\n",
    "    ax.get_xaxis().set_visible(False)\n",
    "    ax.get_yaxis().set_visible(False)\n",
    "plt.show()"
   ]
  },
  {
   "cell_type": "code",
   "execution_count": null,
   "metadata": {
    "id": "MS3MVWsM7oP8"
   },
   "outputs": [],
   "source": [
    "# from keras.datasets import mnist"
   ]
  },
  {
   "cell_type": "code",
   "execution_count": null,
   "metadata": {
    "id": "S1hFc3XOC4E_"
   },
   "outputs": [],
   "source": [
    "print(X_train.shape)\n",
    "print(y_train.shape)\n",
    "print(X_test.shape)\n",
    "print(y_test.shape)"
   ]
  },
  {
   "cell_type": "code",
   "execution_count": null,
   "metadata": {
    "id": "L3f4X5PHUqgS"
   },
   "outputs": [],
   "source": [
    "input_image = Input(shape=(512, 512, 3))\n",
    " \n",
    "model = Model(input_image , decoder(encoder(input_image)))\n",
    "model.compile(loss='mean_squared_error', optimizer='nadam')\n",
    " \n",
    "# (x_train, _), (x_test, _) = stl10.load_data()\n",
    " \n",
    "# Normalize data\n",
    "X_train = X_train.astype('float32') \n",
    "X_train /= 255.0\n",
    "X_test = X_test.astype('float32') \n",
    "X_test /= 255.0\n",
    " \n",
    "# Training\n",
    "model.fit(X_train, X_train, batch_size =  64, epochs= 10, validation_data=(X_test, X_test), shuffle=True)"
   ]
  },
  {
   "cell_type": "code",
   "execution_count": null,
   "metadata": {
    "id": "EkHnEcizjr2P"
   },
   "outputs": [],
   "source": [
    "# input_image = Input(shape=(512, 512, 3 ))\n",
    "  \n",
    "# model = Model(input_image, decoder(encoder(input_image)))\n",
    "# model.compile(loss='mean_squared_error', optimizer='nadam')\n",
    "  \n",
    "# #(X_train, _), (x_test, _) = mnist.load_data()\n",
    "  \n",
    "# # Normalize data\n",
    "# #X_train = image.img_to_array(X_train).astype('float32')\n",
    "# X_train = X_train.astype('float32') \n",
    "# X_train /= 255.0\n",
    "# X_train = X_train.reshape((-1, 512, 512, 3))\n",
    " \n",
    "# X_test = X_test.astype('float32') \n",
    "# X_test /= 255.0\n",
    "# X_test = X_test.reshape((-1, 512, 512, 3))\n",
    "  \n",
    "# # Training\n",
    "# model.fit(X_train, X_train, batch_size=64, epochs=10, validation_data=(X_test, X_test), shuffle=True)\n"
   ]
  },
  {
   "cell_type": "code",
   "execution_count": null,
   "metadata": {
    "id": "SpaHLis0KrcC"
   },
   "outputs": [],
   "source": [
    "encoded_imgs = model.predict(X_test)\n",
    "decoded_imgs = model.predict(encoded_imgs)"
   ]
  },
  {
   "cell_type": "code",
   "execution_count": null,
   "metadata": {
    "id": "_yEdb8VORJkJ"
   },
   "outputs": [],
   "source": [
    "X_test = X_test.reshape(-1,512, 512,3)\n",
    "decoded_imgs = decoded_imgs.reshape(-1,512, 512,3)"
   ]
  },
  {
   "cell_type": "code",
   "execution_count": null,
   "metadata": {
    "id": "WQ03PFuBR__y"
   },
   "outputs": [],
   "source": [
    "print(X_test.shape)\n",
    "print(decoded_imgs.shape)"
   ]
  },
  {
   "cell_type": "code",
   "execution_count": null,
   "metadata": {
    "id": "eEU-F9m7I-_L"
   },
   "outputs": [],
   "source": [
    "n = 10 \n",
    "plt.figure(figsize=(20, 4))\n",
    "for i in range(n):\n",
    "    # Display original\n",
    "    # ax = plt.subplot(2, n, i + 1)\n",
    "    # plt.imshow(X_test[i].reshape(512, 512))\n",
    "    # plt.gray()\n",
    "    # ax.get_xaxis().set_visible(False)\n",
    "    # ax.get_yaxis().set_visible(False)\n",
    "\n",
    "    # Display reconstruction\n",
    "    ax = plt.subplot(2, n, i + 1 + n)\n",
    "    plt.imshow(decoded_imgs[i])\n",
    "    plt.gray()\n",
    "    ax.get_xaxis().set_visible(False)\n",
    "    ax.get_yaxis().set_visible(False)\n",
    "plt.show()"
   ]
  },
  {
   "cell_type": "code",
   "execution_count": null,
   "metadata": {
    "id": "bvA_35xVHRrX"
   },
   "outputs": [],
   "source": [
    "plt.imshow(images1[0])"
   ]
  },
  {
   "cell_type": "markdown",
   "metadata": {
    "id": "T6aWqum9j9Hi"
   },
   "source": [
    "## CNN"
   ]
  },
  {
   "cell_type": "code",
   "execution_count": null,
   "metadata": {
    "id": "hua2O838j-bN"
   },
   "outputs": [],
   "source": [
    "from keras.layers import Input, Conv2D, MaxPooling2D, UpSampling2D, BatchNormalization, Activation, Dropout, Flatten\n",
    "from keras.models import Model\n",
    "from extra_keras_datasets import stl10"
   ]
  },
  {
   "cell_type": "code",
   "execution_count": null,
   "metadata": {
    "id": "0ZQ0H-qSj_Wp"
   },
   "outputs": [],
   "source": [
    "def encoder(input_image):\n",
    "    conv1 = Conv2D(32, (3, 3), activation='relu', padding='same')(input_image) #96 x 96 x 32\n",
    "    conv1 = BatchNormalization()(conv1)\n",
    "    conv1 = Conv2D(32, (3, 3), activation='relu', padding='same')(conv1) #96 x 96 x 32\n",
    "    conv1 = BatchNormalization()(conv1)\n",
    "    conv1 = Conv2D(32, (3, 3), activation='relu', padding='same')(conv1) #96 x 96 x 32\n",
    "    conv1 = BatchNormalization()(conv1)\n",
    "    conv1 = Conv2D(32, (3, 3), activation='relu', padding='same')(conv1) #96 x 96 x 32\n",
    "    conv1 = BatchNormalization()(conv1)\n",
    "    conv1 = MaxPooling2D(pool_size=(2, 2))(conv1) #48 x 48 x 32\n",
    "    conv1 = Dropout(0.4)(conv1)\n",
    " \n",
    "    conv2 = Conv2D(64, (3, 3), activation='relu', padding='same')(conv1) #48 x 48 x 64\n",
    "    conv2 = BatchNormalization()(conv2)\n",
    "    conv2 = Conv2D(64, (3, 3), activation='relu', padding='same')(conv2) #48 x 48 x 64\n",
    "    conv2 = BatchNormalization()(conv2)\n",
    "    conv2 = Conv2D(64, (3, 3), activation='relu', padding='same')(conv2) #48 x 48 x 64\n",
    "    conv2 = BatchNormalization()(conv2)\n",
    "    conv2 = Conv2D(64, (3, 3), activation='relu', padding='same')(conv2) #48 x 48 x 64\n",
    "    conv2 = BatchNormalization()(conv2)\n",
    "    conv2 = MaxPooling2D(pool_size=(2, 2))(conv2) #24 x 24 x 64\n",
    "    conv2 = Dropout(0.4)(conv2)\n",
    " \n",
    "    conv3 = Conv2D(64, (3, 3), activation='relu', padding='same')(conv3) #24 x 24 x 64\n",
    "    conv3 = BatchNormalization()(conv3)\n",
    "    conv3 = Conv2D(64, (3, 3), activation='relu', padding='same')(conv3) #24 x 24 x 64\n",
    "    conv3 = BatchNormalization()(conv3)\n",
    "    conv3 = Conv2D(64, (3, 3), activation='relu', padding='same')(conv3) #24 x 24 x 64\n",
    "    conv3 = BatchNormalization()(conv3)\n",
    "    conv3 = Conv2D(64, (3, 3), activation='relu', padding='same')(conv3) #24 x 24 x 64\n",
    "    conv3 = BatchNormalization()(conv3)\n",
    "    conv3 = MaxPooling2D(pool_size=(2, 2))(conv3) #12 x 12 x 64\n",
    "    conv3 = Dropout(0.4)(conv3)\n",
    " \n",
    "    conv4 = Conv2D(32, (3, 3), activation='relu', padding='same')(conv3) #12 x 12 x 32\n",
    "    conv4 = BatchNormalization()(conv4)\n",
    "    conv4 = Conv2D(32, (3, 3), activation='relu', padding='same')(conv4) #12 x 12 x 32\n",
    "    conv4 = BatchNormalization()(conv4)\n",
    "    conv4 = Conv2D(32, (3, 3), activation='relu', padding='same')(conv4) #12 x 12 x 32\n",
    "    conv4 = BatchNormalization()(conv4)\n",
    "    conv4 = Conv2D(32, (3, 3), activation='relu', padding='same')(conv4) #12 x 12 x 32\n",
    " \n",
    "    encoded = BatchNormalization()(conv4)\n",
    " \n",
    "    return encoded\n",
    " \n",
    "def decoder(encoded_image):\n",
    "    conv5 = Conv2D(32, (3, 3), activation='relu', padding='same')(conv4) #12 x 12 x 32\n",
    "    conv5 = BatchNormalization()(conv5)\n",
    "    conv5 = Conv2D(32, (3, 3), activation='relu', padding='same')(conv5) #12 x 12 x 32\n",
    "    conv5 = BatchNormalization()(conv5)\n",
    "    conv5 = Conv2D(32, (3, 3), activation='relu', padding='same')(conv5) #12 x 12 x 32\n",
    "    conv5 = BatchNormalization()(conv5)\n",
    "    conv5 = Conv2D(32, (3, 3), activation='relu', padding='same')(conv5) #12 x 12 x 32\n",
    "    conv5 = BatchNormalization()(conv5)\n",
    "    conv5 = UpSampling2D((2,2))(conv5) #24 x 24 x 32\n",
    " \n",
    "    conv6 = Conv2D(64, (3, 3), activation='relu', padding='same')(conv5) #24 x 24 x 64\n",
    "    conv6 = BatchNormalization()(conv6)\n",
    "    conv6 = Conv2D(64, (3, 3), activation='relu', padding='same')(conv6) #24 x 24 x 64\n",
    "    conv6 = BatchNormalization()(conv6)\n",
    "    conv6 = Conv2D(64, (3, 3), activation='relu', padding='same')(conv6) #24 x 24 x 64\n",
    "    conv6 = BatchNormalization()(conv6)\n",
    "    conv6 = Conv2D(64, (3, 3), activation='relu', padding='same')(conv6) #24 x 24 x 64\n",
    "    conv6 = BatchNormalization()(conv6)\n",
    "    conv6 = UpSampling2D((2,2))(conv6) #48 x 48 x 64\n",
    " \n",
    "    conv7 = Conv2D(64, (3, 3), activation='relu', padding='same')(conv6) #48 x 48 x 64\n",
    "    conv7 = BatchNormalization()(conv7)\n",
    "    conv7 = Conv2D(64, (3, 3), activation='relu', padding='same')(conv7) #48 x 48 x 64\n",
    "    conv7 = BatchNormalization()(conv7)\n",
    "    conv7 = Conv2D(64, (3, 3), activation='relu', padding='same')(conv7) #48 x 48 x 64\n",
    "    conv7 = BatchNormalization()(conv7)\n",
    "    conv7 = Conv2D(64, (3, 3), activation='relu', padding='same')(conv7) #48 x 48 x 64\n",
    "    conv7 = BatchNormalization()(conv7)\n",
    "    conv7 = UpSampling2D((2,2))(conv7) #96 x 96 x 64\n",
    " \n",
    "    conv8 = Conv2D(32, (3, 3), activation='relu', padding='same')(conv7) #96 x 96 x 32\n",
    "    conv8 = BatchNormalization()(conv8)\n",
    "    conv8 = Conv2D(32, (3, 3), activation='relu', padding='same')(conv8) #96 x 96 x 32\n",
    "    conv8 = BatchNormalization()(conv8)\n",
    "    conv8 = Conv2D(32, (3, 3), activation='relu', padding='same')(conv8) #96 x 96 x 32\n",
    "    conv8 = BatchNormalization()(conv8)\n",
    "    conv8 = Conv2D(32, (3, 3), activation='relu', padding='same')(conv8) #96 x 96 x 32\n",
    "    conv8 = BatchNormalization()(conv8)\n",
    " \n",
    "    return Conv2D(3, (3, 3), activation='sigmoid', padding='same')(conv8) #96 x 96 x 3"
   ]
  },
  {
   "cell_type": "code",
   "execution_count": null,
   "metadata": {
    "id": "9MFs5Lyolcby"
   },
   "outputs": [],
   "source": [
    "input_image = Input(shape=(96, 96, 3))\n",
    " \n",
    "model = Model(input_image , decoder(encoder(input_image)))\n",
    "model.compile(loss='mean_squared_error', optimizer='nadam')\n",
    " \n",
    "#(x_train, _), (x_test, _) = stl10.load_data()\n",
    " \n",
    "# Normalize data\n",
    "X_train = X_train.astype('float32') /= 255.0\n",
    "X_test = X_test.astype('float32') /= 255.0\n",
    " \n",
    "# Training\n",
    "model.fit(X_train, y_train, batch_size=32, epochs=100, validation_data=(X_test, y_test), shuffle=True)"
   ]
  }
 ],
 "metadata": {
  "colab": {
   "provenance": []
  },
  "kernelspec": {
   "display_name": "Python 3 (ipykernel)",
   "language": "python",
   "name": "python3"
  },
  "language_info": {
   "codemirror_mode": {
    "name": "ipython",
    "version": 3
   },
   "file_extension": ".py",
   "mimetype": "text/x-python",
   "name": "python",
   "nbconvert_exporter": "python",
   "pygments_lexer": "ipython3",
   "version": "3.9.12"
  }
 },
 "nbformat": 4,
 "nbformat_minor": 1
}
